{
 "cells": [
  {
   "cell_type": "markdown",
   "id": "ee614afc",
   "metadata": {},
   "source": [
    "# LPBF Cube Printing Experiment Overview\n",
    "\n",
    "### Objective\n",
    "\n",
    "The primary goal of this experiment is to delve into the Laser Powder Bed Fusion (LPBF) process by focusing on how variations in laser power and scan speed affect melting regimes. It seeks to understand the influence of these parameters on the properties of printed cubes and to identify transitions between different melting regimes.\n",
    "\n",
    "### Methodology\n",
    "\n",
    "- **Printing:** The experiment involved printing nine cubes using an LPBF machine, with each cube subjected to different sets of processing parameters to explore various aspects of the LPBF process.\n",
    "- **Optical Data Collection:** Optical data, including on-axis emissions and off-axis reflections from the process zone, were collected for each cube. This data aims to study the impact of processing parameters on the optical signals emitted during the printing process.\n",
    "- **Parameter Variation:** The experiment varied parameters every 10 lines within each cube, resulting in 10 unique parameter sets per cube. This approach allowed for a comprehensive investigation into the effects of laser power and scan speed variations.\n",
    "- **Data Documentation:** Data files for each 10-line segment were meticulously recorded, documenting the specific parameter set used, to facilitate a detailed analysis.\n",
    "\n",
    "### Parameter Ranges\n",
    "\n",
    "- **Laser Power:** The laser power was varied between 90W and 120W, aiming to explore a wide spectrum of processing conditions.\n",
    "- **Scan Speed:** The scan speed ranged from 300 mm/s to 1800 mm/s, providing a detailed perspective on its impact on the printing process.\n",
    "\n",
    "### Details of the Cubes\n",
    "\n",
    "#### Cube 1 & 9: Consistency and Reproducibility Check\n",
    "\n",
    "- **Description:** Cubes 1 and 9, identical in their parameter settings, were printed to evaluate the consistency and reproducibility of the LPBF process across different positions within the setup.\n",
    "- **Processing Parameters:** As control samples, these cubes offer a baseline for comparing print outcomes under identical conditions across different experimental runs.\n",
    "\n",
    "#### Pairs Cube 1 & 2, Cube 3 & 4, and Cube 5 & 6: Study of Different Locations on Optical Signals\n",
    "\n",
    "- **Description:** These cube pairs were specifically designed to assess the effect of different locations within the LPBF machine on the optical signals captured during the printing process. Although each pair shares identical parameter sets, the arrangement of these parameters differs to study how spatial positioning affects the quality of optical data collected.\n",
    "- **Objective:** The focus is on understanding how variations in cube placement within the printer influence the characteristics of optical signals, potentially affecting the interpretation of melting regimes and the quality of the final print.\n",
    "\n",
    "#### Cube 7 & 8: Focused Speed Variation Analysis\n",
    "\n",
    "- **Description:** Cubes 7 and 8 concentrate on examining the effects of scan speed variations at a constant laser power of 105W. This part of the experiment aims to isolate the speed's impact from power variations, offering insights into how scan speed alone influences the melting regimes.\n",
    "- **Details:** These cubes provide a granular view into the role of scan speed in the LPBF process, independent of laser power changes, and its effects on the outcomes.\n",
    "\n",
    "### Conclusion\n",
    "\n",
    "This experiment was carefully crafted to unravel the intricacies of the LPBF process, shedding light on the significant role of laser processing parameters in determining print quality and efficiency. By methodically varying laser power and scan speed and examining their effects on optical signals, the study significantly advances the understanding of LPBF. It lays the groundwork for developing optimized printing strategies that enhance material properties and reliability of the process."
   ]
  },
  {
   "cell_type": "code",
   "execution_count": 1,
   "id": "f47c06ae",
   "metadata": {},
   "outputs": [
    {
     "data": {
      "text/plain": [
       "['Cube1',\n",
       " 'Cube2',\n",
       " 'Cube3',\n",
       " 'Cube4',\n",
       " 'Cube5',\n",
       " 'Cube6',\n",
       " 'Cube7',\n",
       " 'Cube8',\n",
       " 'Cube9']"
      ]
     },
     "execution_count": 1,
     "metadata": {},
     "output_type": "execute_result"
    }
   ],
   "source": [
    "import pandas as pd\n",
    "\n",
    "# Load the Excel file\n",
    "excel_path = './experiment_parameters.xlsx'\n",
    "xl = pd.ExcelFile(excel_path)\n",
    "\n",
    "# List all the sheet names to see the cubes\n",
    "sheet_names = xl.sheet_names\n",
    "sheet_names\n"
   ]
  },
  {
   "cell_type": "code",
   "execution_count": 2,
   "id": "4ed8f1de",
   "metadata": {},
   "outputs": [
    {
     "name": "stdout",
     "output_type": "stream",
     "text": [
      "Cube1:\n",
      "   Speed (mm/s)  Power (W)  Power perc (%)  #\n",
      "0          1050         90              18  1\n",
      "1           800         90              18  2\n",
      "2          1800        120              24  3\n",
      "3          1300        120              24  4\n",
      "4           550        120              24  5 \n",
      "\n",
      "Cube2:\n",
      "   Speed (mm/s)  Power (W)  Power perc (%)   #\n",
      "0           800        105              21  11\n",
      "1           300        120              24  12\n",
      "2          1300        105              21  13\n",
      "3          1050        120              24  14\n",
      "4           300        105              21  15 \n",
      "\n",
      "Cube3:\n",
      "   Speed (mm/s)  Power (W)  Power perc (%)  #\n",
      "0          1550         90              18  1\n",
      "1          1300        120              24  2\n",
      "2          1050         90              18  3\n",
      "3           300        120              24  4\n",
      "4           550        120              24  5 \n",
      "\n",
      "Cube4:\n",
      "   Speed (mm/s)  Power (W)  Power perc (%)   #\n",
      "0           800        105              21  11\n",
      "1           800        120              24  12\n",
      "2          1050        105              21  13\n",
      "3          1550        105              21  14\n",
      "4           550        105              21  15 \n",
      "\n",
      "Cube5:\n",
      "   Speed (mm/s)  Power (W)  Power perc (%)  #\n",
      "0          1300         90              18  1\n",
      "1          1550        105              21  2\n",
      "2          1800        120              24  3\n",
      "3           300        120              24  4\n",
      "4          1550         90              18  5 \n",
      "\n",
      "Cube6:\n",
      "   Speed (mm/s)  Power (W)  Power perc (%)   #\n",
      "0          1300        120              24  11\n",
      "1           550        120              24  12\n",
      "2           300        105              21  13\n",
      "3           800        120              24  14\n",
      "4          1050         90              18  15 \n",
      "\n",
      "Cube7:\n",
      "   Speed (mm/s)  Power (W)  Power perc (%)  #\n",
      "0    300.000000        105              21  1\n",
      "1   1642.105263        105              21  2\n",
      "2   1484.210526        105              21  3\n",
      "3    378.947368        105              21  4\n",
      "4    931.578947        105              21  5 \n",
      "\n",
      "Cube8:\n",
      "   Speed (mm/s)  Power (W)  Power perc (%)   #\n",
      "0   1326.315789        105              21  11\n",
      "1    457.894737        105              21  12\n",
      "2   1010.526316        105              21  13\n",
      "3   1800.000000        105              21  14\n",
      "4    615.789474        105              21  15 \n",
      "\n",
      "Cube9:\n",
      "   Speed (mm/s)  Power (W)  Power perc (%)  #\n",
      "0          1050         90              18  1\n",
      "1           800         90              18  2\n",
      "2          1800        120              24  3\n",
      "3          1300        120              24  4\n",
      "4           550        120              24  5 \n",
      "\n"
     ]
    }
   ],
   "source": [
    "# Load all sheets into a dictionary of dataframes\n",
    "cubes_data = {sheet: xl.parse(sheet) for sheet in sheet_names}\n",
    "\n",
    "# Inspect the first few rows of each sheet to understand the structure and content\n",
    "for cube, data in cubes_data.items():\n",
    "    print(f\"{cube}:\")\n",
    "    print(data.head(), \"\\n\")\n"
   ]
  },
  {
   "cell_type": "code",
   "execution_count": 3,
   "id": "664eac9e",
   "metadata": {},
   "outputs": [
    {
     "data": {
      "image/png": "[encoded data removed]",
      "text/plain": [
       "<Figure size 1296x432 with 3 Axes>"
      ]
     },
     "metadata": {
      "needs_background": "light"
     },
     "output_type": "display_data"
    }
   ],
   "source": [
    "import matplotlib.pyplot as plt\n",
    "\n",
    "# Define pairs of cubes to be considered together\n",
    "cube_pairs = {\n",
    "    'Cube 1 & 2': ['Cube1', 'Cube2'],\n",
    "    'Cube 3, 4': ['Cube3', 'Cube4'],\n",
    "    'Cube 5, 6': ['Cube5', 'Cube6']\n",
    "}\n",
    "\n",
    "# Plotting\n",
    "fig, axes = plt.subplots(nrows=1, ncols=len(cube_pairs), figsize=(18, 6))\n",
    "\n",
    "for ax, (title, cubes) in zip(axes, cube_pairs.items()):\n",
    "    for cube in cubes:\n",
    "        data = cubes_data[cube]\n",
    "        ax.scatter(data['Speed (mm/s)'], data['Power (W)'], label=cube)\n",
    "    ax.set_title(title)\n",
    "    ax.set_xlabel('Speed (mm/s)')\n",
    "    ax.set_ylabel('Power (W)')\n",
    "    ax.legend()\n",
    "\n",
    "plt.tight_layout()\n",
    "plt.show()\n"
   ]
  },
  {
   "cell_type": "code",
   "execution_count": 4,
   "id": "195149d3",
   "metadata": {},
   "outputs": [
    {
     "data": {
      "image/png": "[encoded data removed]",
      "text/plain": [
       "<Figure size 648x432 with 1 Axes>"
      ]
     },
     "metadata": {
      "needs_background": "light"
     },
     "output_type": "display_data"
    }
   ],
   "source": [
    "# Adjusting the cube_pairs dictionary to focus on Cube 7 and Cube 8\n",
    "cube_pairs_for_analysis = {\n",
    "    'Cube 7 & 8': ['Cube7', 'Cube8']\n",
    "}\n",
    "\n",
    "# Plotting\n",
    "fig, ax = plt.subplots(nrows=1, ncols=1, figsize=(9, 6))\n",
    "\n",
    "for title, cubes in cube_pairs_for_analysis.items():\n",
    "    for cube in cubes:\n",
    "        data = cubes_data[cube]\n",
    "        ax.scatter(data['Speed (mm/s)'], data['Power (W)'], label=cube)\n",
    "    ax.set_title(title)\n",
    "    ax.set_xlabel('Speed (mm/s)')\n",
    "    ax.set_ylabel('Power (W)')\n",
    "    ax.legend()\n",
    "\n",
    "plt.tight_layout()\n",
    "plt.show()\n"
   ]
  }
 ],
 "metadata": {
  "kernelspec": {
   "display_name": "Python 3 (ipykernel)",
   "language": "python",
   "name": "python3"
  },
  "language_info": {
   "codemirror_mode": {
    "name": "ipython",
    "version": 3
   },
   "file_extension": ".py",
   "mimetype": "text/x-python",
   "name": "python",
   "nbconvert_exporter": "python",
   "pygments_lexer": "ipython3",
   "version": "3.10.12"
  }
 },
 "nbformat": 4,
 "nbformat_minor": 5
}
