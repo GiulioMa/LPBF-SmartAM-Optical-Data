{
 "cells": [
  {
   "cell_type": "code",
   "execution_count": 76,
   "id": "70c36be7",
   "metadata": {
    "scrolled": true
   },
   "outputs": [
    {
     "data": {
      "text/plain": [
       "(10, 2, 1260)"
      ]
     },
     "execution_count": 76,
     "metadata": {},
     "output_type": "execute_result"
    }
   ],
   "source": [
    "import pickle\n",
    "\n",
    "# Load the data from the provided file\n",
    "file_path = './Data/Neuchatel_316L/segmented_data_dict.pkl'\n",
    "\n",
    "with open(file_path, 'rb') as file:\n",
    "    data = pickle.load(file)\n",
    "\n",
    "# Display the keys of the dictionary and some sample data\n",
    "data_keys = data.keys()\n",
    "sample_data = {key: data[key] for key in list(data_keys)}\n",
    "\n",
    "sample_data[(90,1550,3)].shape\n"
   ]
  },
  {
   "cell_type": "code",
   "execution_count": 77,
   "id": "f872785e",
   "metadata": {},
   "outputs": [
    {
     "data": {
      "text/plain": [
       "dict_keys([(90, 1550, 3), (120, 1300, 3), (90, 1050, 3), (120, 300, 3), (120, 550, 3), (120, 1050, 3), (105, 1800, 3), (105, 300, 3), (90, 800, 3), (90, 1300, 3), (105, 800, 4), (120, 800, 4), (105, 1050, 4), (105, 1550, 4), (105, 550, 4), (90, 300, 4), (120, 1800, 4), (105, 1300, 4), (120, 1550, 4), (90, 550, 4)])"
      ]
     },
     "execution_count": 77,
     "metadata": {},
     "output_type": "execute_result"
    }
   ],
   "source": [
    "data_keys"
   ]
  },
  {
   "cell_type": "code",
   "execution_count": 252,
   "id": "ade24e1e",
   "metadata": {},
   "outputs": [
    {
     "name": "stdout",
     "output_type": "stream",
     "text": [
      "90 1550\n",
      "120 1300\n",
      "90 1050\n",
      "120 300\n",
      "120 550\n",
      "120 1050\n",
      "105 1800\n",
      "105 300\n",
      "90 800\n",
      "90 1300\n",
      "105 800\n",
      "120 800\n",
      "105 1050\n",
      "105 1550\n",
      "105 550\n",
      "90 300\n",
      "120 1800\n",
      "105 1300\n",
      "120 1550\n",
      "90 550\n"
     ]
    }
   ],
   "source": [
    "import numpy as np\n",
    "import pandas as pd\n",
    "from scipy.stats import skew\n",
    "\n",
    "# Define the extract_features function with positional information\n",
    "def extract_features(data, start_pos):\n",
    "    features = {}\n",
    "    # Emission features\n",
    "    features['mean_emission'] = np.mean(data[:, 0, :], axis=1)\n",
    "    features['std_emission'] = np.std(data[:, 0, :], axis=1)\n",
    "    features['median_emission'] = np.median(data[:, 0, :], axis=1)\n",
    "    features['95th_percentile_emission'] = np.percentile(data[:, 0, :], 95, axis=1)\n",
    "    features['5th_percentile_emission'] = np.percentile(data[:, 0, :], 5, axis=1)\n",
    "    features['skewness_emission'] = skew(data[:, 0, :], axis=1)\n",
    "    \n",
    "    # Reflection features\n",
    "    features['mean_reflection'] = np.mean(data[:, 1, :], axis=1)\n",
    "    features['std_reflection'] = np.std(data[:, 1, :], axis=1)\n",
    "    features['median_reflection'] = np.median(data[:, 1, :], axis=1)\n",
    "    features['95th_percentile_reflection'] = np.percentile(data[:, 1, :], 95, axis=1)\n",
    "    features['5th_percentile_reflection'] = np.percentile(data[:, 1, :], 5, axis=1)\n",
    "    features['skewness_reflection'] = skew(data[:, 1, :], axis=1)\n",
    "    \n",
    "    # Positional feature\n",
    "    num_samples = data.shape[0]\n",
    "    features['position'] = np.arange(start_pos, start_pos + num_samples)\n",
    "    \n",
    "    return features\n",
    "\n",
    "# Initialize lists for storing features and labels\n",
    "features_list = []\n",
    "label_list = []\n",
    "powers = []\n",
    "speeds = []\n",
    "\n",
    "# Initialize a variable to track the start position for the positional feature\n",
    "start_pos = 0\n",
    "\n",
    "# Iterate over the sample_data to extract features\n",
    "for key, value in sample_data.items():\n",
    "    power, speed, _ = key\n",
    "    print(power, speed)\n",
    "    extracted_features = extract_features(value, start_pos)\n",
    "    \n",
    "    feats = []\n",
    "    for k, v in extracted_features.items():\n",
    "        feats.append(v)\n",
    "    \n",
    "    # Store the features and labels\n",
    "    features_list.append(np.stack(feats, axis=1))\n",
    "    label_list.append((power, speed))\n",
    "    powers.append(power)\n",
    "    speeds.append(speed)\n",
    "    \n",
    "    # Update the start position for the next iteration\n",
    "    start_pos += value.shape[0]\n",
    "    \n"
   ]
  },
  {
   "cell_type": "code",
   "execution_count": 253,
   "id": "f93fd91f",
   "metadata": {},
   "outputs": [
    {
     "data": {
      "text/plain": [
       "[90,\n",
       " 120,\n",
       " 90,\n",
       " 120,\n",
       " 120,\n",
       " 120,\n",
       " 105,\n",
       " 105,\n",
       " 90,\n",
       " 90,\n",
       " 105,\n",
       " 120,\n",
       " 105,\n",
       " 105,\n",
       " 105,\n",
       " 90,\n",
       " 120,\n",
       " 105,\n",
       " 120,\n",
       " 90]"
      ]
     },
     "execution_count": 253,
     "metadata": {},
     "output_type": "execute_result"
    }
   ],
   "source": [
    "powers"
   ]
  },
  {
   "cell_type": "code",
   "execution_count": 254,
   "id": "09eac5bf",
   "metadata": {},
   "outputs": [
    {
     "data": {
      "text/plain": [
       "{300, 550, 800, 1050, 1300, 1550, 1800}"
      ]
     },
     "execution_count": 254,
     "metadata": {},
     "output_type": "execute_result"
    }
   ],
   "source": [
    "set(speeds)"
   ]
  },
  {
   "cell_type": "code",
   "execution_count": 255,
   "id": "ad53bfd5",
   "metadata": {},
   "outputs": [],
   "source": [
    "all_data = []\n",
    "for single_speed in set(speeds):\n",
    "    single_speed_data = {}\n",
    "    for (power, speed), val in zip(label_list, features_list):\n",
    "        if speed == single_speed:\n",
    "            single_speed_data[(speed, power)] = val\n",
    "    if len(single_speed_data) != 0:\n",
    "        all_data.append(single_speed_data)\n",
    "            "
   ]
  },
  {
   "cell_type": "code",
   "execution_count": 256,
   "id": "e2bc85e9",
   "metadata": {},
   "outputs": [],
   "source": [
    "all_data = []\n",
    "for single_power in set(powers):\n",
    "    single_power_data = {}\n",
    "    for (power, speed), val in zip(label_list, features_list):\n",
    "        if power == single_power:\n",
    "            single_power_data[(speed, power)] = val\n",
    "    if len(single_power_data) != 0:\n",
    "        all_data.append(single_power_data)\n",
    "            "
   ]
  },
  {
   "cell_type": "code",
   "execution_count": 257,
   "id": "596e9456",
   "metadata": {},
   "outputs": [
    {
     "data": {
      "text/plain": [
       "{(1300,\n",
       "  120): array([[ 7.92519351e-01,  2.42905492e-01,  7.97805800e-01,\n",
       "          1.18766750e+00,  3.60260000e-01, -1.46646257e-01,\n",
       "          4.84502515e-01,  1.13591561e-01,  4.60052500e-01,\n",
       "          6.95495600e-01,  3.46984900e-01,  1.21314041e+00,\n",
       "          1.00000000e+01],\n",
       "        [ 1.14665330e+00,  5.52693514e-01,  1.05125400e+00,\n",
       "          2.16201775e+00,  5.15632600e-01,  2.16286970e+00,\n",
       "          1.12912168e+00,  5.37118500e-01,  1.00257850e+00,\n",
       "          2.17483500e+00,  5.14183050e-01,  1.48480342e+00,\n",
       "          1.10000000e+01],\n",
       "        [ 1.08351905e+00,  3.42904182e-01,  1.09313950e+00,\n",
       "          1.67587275e+00,  4.62417625e-01, -9.38814162e-03,\n",
       "          6.97737334e-01,  2.12175411e-01,  6.64596600e-01,\n",
       "          1.10225700e+00,  4.22172550e-01,  9.41231038e-01,\n",
       "          1.20000000e+01],\n",
       "        [ 1.16299630e+00,  3.43144528e-01,  1.15531950e+00,\n",
       "          1.74983950e+00,  6.06384250e-01,  3.35496102e-01,\n",
       "          8.91744990e-01,  3.55028374e-01,  8.12377900e-01,\n",
       "          1.56692500e+00,  4.94041400e-01,  1.54893628e+00,\n",
       "          1.30000000e+01],\n",
       "        [ 1.50635729e+00,  7.29376673e-01,  1.36772150e+00,\n",
       "          2.93235775e+00,  5.77964800e-01,  1.22945571e+00,\n",
       "          1.79864249e+00,  6.78384201e-01,  1.72226000e+00,\n",
       "          2.98595425e+00,  8.71353125e-01,  7.52663629e-01,\n",
       "          1.40000000e+01],\n",
       "        [ 9.99746423e-01,  2.54617207e-01,  1.00479100e+00,\n",
       "          1.36936175e+00,  5.85594200e-01,  3.14547471e-01,\n",
       "          6.03307185e-01,  1.76323973e-01,  5.66024800e-01,\n",
       "          9.28497275e-01,  3.89976475e-01,  1.75184216e+00,\n",
       "          1.50000000e+01],\n",
       "        [ 1.20539228e+00,  4.06325707e-01,  1.15028400e+00,\n",
       "          1.88209525e+00,  6.92138675e-01,  1.83264922e+00,\n",
       "          1.04093412e+00,  4.57362425e-01,  9.39254800e-01,\n",
       "          1.96296700e+00,  5.20172100e-01,  1.63049833e+00,\n",
       "          1.60000000e+01],\n",
       "        [ 1.20111078e+00,  4.07299728e-01,  1.18530300e+00,\n",
       "          1.87812825e+00,  4.91180375e-01,  1.67063427e-01,\n",
       "          7.89240795e-01,  3.21013001e-01,  7.28302050e-01,\n",
       "          1.41738900e+00,  3.97911050e-01,  1.57553629e+00,\n",
       "          1.70000000e+01],\n",
       "        [ 1.18960678e+00,  3.29934505e-01,  1.16607700e+00,\n",
       "          1.78722400e+00,  6.76307675e-01,  4.55924256e-01,\n",
       "          7.28453697e-01,  2.67841943e-01,  6.67343100e-01,\n",
       "          1.25171675e+00,  4.37927225e-01,  1.58662049e+00,\n",
       "          1.80000000e+01],\n",
       "        [ 1.21441086e+00,  4.10821270e-01,  1.14768950e+00,\n",
       "          1.96365375e+00,  6.63147000e-01,  9.50188561e-01,\n",
       "          1.15116725e+00,  4.85701304e-01,  1.06048550e+00,\n",
       "          2.01602925e+00,  5.63850400e-01,  1.42183673e+00,\n",
       "          1.90000000e+01]]),\n",
       " (300,\n",
       "  120): array([[3.16677816e-01, 1.06639270e-01, 3.05938700e-01, 5.06500240e-01,\n",
       "         1.61285400e-01, 6.93488737e-01, 4.00655876e-01, 6.16534255e-02,\n",
       "         3.90625000e-01, 5.10620140e-01, 3.19763160e-01, 8.43444259e-01,\n",
       "         3.00000000e+01],\n",
       "        [3.26008339e-01, 1.10035405e-01, 3.16314700e-01, 5.16967800e-01,\n",
       "         1.70135500e-01, 7.87481255e-01, 3.69902614e-01, 4.78604728e-02,\n",
       "         3.65295400e-01, 4.51355000e-01, 3.00079360e-01, 3.57724104e-01,\n",
       "         3.10000000e+01],\n",
       "        [3.49105773e-01, 1.39953793e-01, 3.30505400e-01, 5.97839400e-01,\n",
       "         1.58477760e-01, 9.91252048e-01, 3.65349123e-01, 5.24961876e-02,\n",
       "         3.60107400e-01, 4.58526600e-01, 2.90527300e-01, 5.59446484e-01,\n",
       "         3.20000000e+01],\n",
       "        [3.55807865e-01, 1.75931487e-01, 3.19824200e-01, 7.12097180e-01,\n",
       "         1.62048300e-01, 1.84833339e+00, 3.65592354e-01, 6.71013739e-02,\n",
       "         3.50036600e-01, 5.01556400e-01, 2.87780800e-01, 1.37569913e+00,\n",
       "         3.30000000e+01],\n",
       "        [2.80370451e-01, 9.47706985e-02, 2.68402100e-01, 4.49890140e-01,\n",
       "         1.51672400e-01, 1.05875976e+00, 3.42158257e-01, 3.52778850e-02,\n",
       "         3.39660600e-01, 4.02130140e-01, 2.89001500e-01, 1.56049868e-01,\n",
       "         3.40000000e+01],\n",
       "        [4.09392946e-01, 1.90901413e-01, 3.80249000e-01, 7.37121580e-01,\n",
       "         1.70379660e-01, 1.36095876e+00, 3.72412025e-01, 6.37955451e-02,\n",
       "         3.61175500e-01, 4.93164100e-01, 2.90374800e-01, 9.65827930e-01,\n",
       "         3.50000000e+01],\n",
       "        [4.27382676e-01, 1.76118761e-01, 4.10156300e-01, 7.40234380e-01,\n",
       "         1.77429180e-01, 1.09516561e+00, 3.69740307e-01, 5.07385167e-02,\n",
       "         3.65295400e-01, 4.60662800e-01, 2.93823260e-01, 3.88462282e-01,\n",
       "         3.60000000e+01],\n",
       "        [3.93713733e-01, 1.56912797e-01, 3.74908400e-01, 6.71813980e-01,\n",
       "         1.79290800e-01, 1.24199679e+00, 3.66895560e-01, 4.65247848e-02,\n",
       "         3.65753200e-01, 4.42962600e-01, 2.92968800e-01, 3.66087609e-01,\n",
       "         3.70000000e+01],\n",
       "        [3.37220793e-01, 1.33231047e-01, 3.19976800e-01, 5.75134280e-01,\n",
       "         1.59301800e-01, 1.03590223e+00, 3.50153926e-01, 4.39725407e-02,\n",
       "         3.48205600e-01, 4.24804700e-01, 2.82440200e-01, 1.87825620e-01,\n",
       "         3.80000000e+01],\n",
       "        [3.54236160e-01, 1.26096375e-01, 3.46069300e-01, 5.75530980e-01,\n",
       "         1.64428700e-01, 9.13960874e-01, 3.61392196e-01, 5.04693578e-02,\n",
       "         3.56292700e-01, 4.50042740e-01, 2.89703360e-01, 8.86065437e-01,\n",
       "         3.90000000e+01]]),\n",
       " (550,\n",
       "  120): array([[ 0.30538042,  0.08857493,  0.2897644 ,  0.4684448 ,  0.19308474,\n",
       "          1.39196155,  0.38671938,  0.07052018,  0.3735352 ,  0.51823428,\n",
       "          0.30284122,  1.57536945, 40.        ],\n",
       "        [ 0.35153891,  0.10680816,  0.3373718 ,  0.53898618,  0.2120972 ,\n",
       "          1.48348504,  0.38483598,  0.06336283,  0.3738403 ,  0.5027771 ,\n",
       "          0.30863952,  1.78204948, 41.        ],\n",
       "        [ 0.36191182,  0.17171728,  0.3114319 ,  0.7171783 ,  0.19975279,\n",
       "          2.30655941,  0.40463731,  0.08384308,  0.3874207 ,  0.56340028,\n",
       "          0.30513002,  1.97456118, 42.        ],\n",
       "        [ 0.30066283,  0.09234229,  0.2856445 ,  0.46594236,  0.1829529 ,\n",
       "          1.59248821,  0.39028276,  0.08113487,  0.3718567 ,  0.53877261,\n",
       "          0.30314635,  2.84996474, 43.        ],\n",
       "        [ 0.30770727,  0.0898525 ,  0.2949524 ,  0.46540833,  0.18946842,\n",
       "          1.25778842,  0.38159041,  0.05970934,  0.370636  ,  0.48973087,\n",
       "          0.31016542,  2.35895242, 44.        ],\n",
       "        [ 0.24530424,  0.07148043,  0.2333069 ,  0.37988283,  0.15147402,\n",
       "          1.21841253,  0.35788451,  0.0492866 ,  0.3494263 ,  0.4512024 ,\n",
       "          0.29776004,  1.50280531, 45.        ],\n",
       "        [ 0.30670968,  0.10936527,  0.292511  ,  0.49882506,  0.1620483 ,\n",
       "          1.05958063,  0.38507785,  0.0569654 ,  0.3753662 ,  0.48948671,\n",
       "          0.3125    ,  1.37399692, 46.        ],\n",
       "        [ 0.32306467,  0.12102665,  0.3121948 ,  0.53048706,  0.1545715 ,\n",
       "          1.38734711,  0.39205752,  0.06341247,  0.3833008 ,  0.4971313 ,\n",
       "          0.3086853 ,  1.71050484, 47.        ],\n",
       "        [ 0.38267637,  0.14550864,  0.3608704 ,  0.6460571 ,  0.19740292,\n",
       "          1.60407781,  0.42524079,  0.08503277,  0.4074097 ,  0.58145143,\n",
       "          0.32618712,  1.74807946, 48.        ],\n",
       "        [ 0.29564057,  0.09454487,  0.287323  ,  0.45841978,  0.15757752,\n",
       "          1.04049923,  0.37216191,  0.06048919,  0.3611755 ,  0.48846439,\n",
       "          0.30039982,  1.64961585, 49.        ]]),\n",
       " (1050,\n",
       "  120): array([[ 0.84922899,  0.21430658,  0.868988  ,  1.1660917 ,  0.41369631,\n",
       "         -0.48425651,  0.51575845,  0.13700116,  0.4789734 ,  0.78562923,\n",
       "          0.36546326,  1.50358375, 50.        ],\n",
       "        [ 1.23862872,  0.36518822,  1.203461  ,  1.8957062 ,  0.65730282,\n",
       "          0.46402639,  0.80801366,  0.27356312,  0.7775879 ,  1.3247223 ,\n",
       "          0.44227599,  0.960207  , 51.        ],\n",
       "        [ 0.91342839,  0.23777175,  0.9370422 ,  1.276703  ,  0.46388246,\n",
       "         -0.41047878,  0.61957884,  0.15742153,  0.5950928 ,  0.90800473,\n",
       "          0.40994265,  1.02206444, 52.        ],\n",
       "        [ 1.31515704,  0.64484607,  1.207123  ,  2.4355769 ,  0.54673766,\n",
       "          2.24509361,  1.2095444 ,  0.42753273,  1.158142  ,  2.0360562 ,\n",
       "          0.58387759,  0.64499251, 53.        ],\n",
       "        [ 1.17407386,  0.32415252,  1.174927  ,  1.651917  ,  0.50192262,\n",
       "          0.36160396,  0.74962534,  0.23281673,  0.7017517 ,  1.1861419 ,\n",
       "          0.44624329,  1.22875574, 54.        ],\n",
       "        [ 0.73883241,  0.4951944 ,  0.6001282 ,  1.6614079 ,  0.25248721,\n",
       "          2.49159443,  1.49805395,  0.55653026,  1.432343  ,  2.5571136 ,\n",
       "          0.73902897,  0.87032675, 55.        ],\n",
       "        [ 0.86845282,  0.23718078,  0.8882141 ,  1.2316589 ,  0.44461057,\n",
       "         -0.41499795,  0.59336828,  0.17248874,  0.553894  ,  0.9152679 ,\n",
       "          0.39630131,  1.48925555, 56.        ],\n",
       "        [ 1.28879373,  0.49037574,  1.238556  ,  2.1266327 ,  0.59231567,\n",
       "          0.75125752,  1.05085539,  0.39216362,  0.9869385 ,  1.795639  ,\n",
       "          0.53529356,  1.02712056, 57.        ],\n",
       "        [ 0.89925352,  0.24140743,  0.9301758 ,  1.2382052 ,  0.40924068,\n",
       "         -0.49549965,  0.62573455,  0.16256878,  0.5949402 ,  0.92466736,\n",
       "          0.41581726,  1.17923038, 58.        ],\n",
       "        [ 1.34005467,  0.69877992,  1.172638  ,  2.7455901 ,  0.53553771,\n",
       "          1.76940822,  1.11723379,  0.43272528,  1.036682  ,  1.9290008 ,\n",
       "          0.5926514 ,  1.19880247, 59.        ]]),\n",
       " (800,\n",
       "  120): array([[3.66823855e-01, 1.25843249e-01, 3.51867700e-01, 5.82885700e-01,\n",
       "         1.88293500e-01, 1.28926015e+00, 3.82826952e-01, 5.91055663e-02,\n",
       "         3.75518800e-01, 4.86930875e-01, 3.00575225e-01, 1.12264553e+00,\n",
       "         1.10000000e+02],\n",
       "        [4.29594469e-01, 1.51554859e-01, 4.08477800e-01, 7.05413800e-01,\n",
       "         2.09190385e-01, 9.10395207e-01, 4.16269111e-01, 7.39376172e-02,\n",
       "         4.05578600e-01, 5.55465680e-01, 3.14765910e-01, 7.98435454e-01,\n",
       "         1.11000000e+02],\n",
       "        [4.23668463e-01, 1.60805859e-01, 3.95736700e-01, 7.36282365e-01,\n",
       "         2.09564240e-01, 9.23360296e-01, 4.12455941e-01, 7.66724496e-02,\n",
       "         4.01306200e-01, 5.49232470e-01, 3.06350720e-01, 1.32421871e+00,\n",
       "         1.12000000e+02],\n",
       "        [4.29092726e-01, 1.46830816e-01, 4.09469600e-01, 6.87004095e-01,\n",
       "         2.19070420e-01, 9.53536288e-01, 4.29821519e-01, 7.97893450e-02,\n",
       "         4.15802000e-01, 5.63949625e-01, 3.35319530e-01, 2.42140554e+00,\n",
       "         1.13000000e+02],\n",
       "        [4.44144563e-01, 1.79684092e-01, 4.12902800e-01, 7.66426050e-01,\n",
       "         2.21252400e-01, 1.47223047e+00, 4.53179987e-01, 9.91341388e-02,\n",
       "         4.35638400e-01, 6.47888200e-01, 3.29261810e-01, 1.07972469e+00,\n",
       "         1.14000000e+02],\n",
       "        [4.51795946e-01, 1.69619635e-01, 4.29763800e-01, 7.60215790e-01,\n",
       "         2.17872610e-01, 8.06684378e-01, 4.40259434e-01, 9.21360365e-02,\n",
       "         4.28161600e-01, 6.02874800e-01, 3.16024775e-01, 1.09192542e+00,\n",
       "         1.15000000e+02],\n",
       "        [4.77861048e-01, 1.70166454e-01, 4.61883550e-01, 7.91366580e-01,\n",
       "         2.20443720e-01, 6.36987324e-01, 4.63608129e-01, 9.79171719e-02,\n",
       "         4.52194200e-01, 6.31454480e-01, 3.31573500e-01, 2.39830206e+00,\n",
       "         1.16000000e+02],\n",
       "        [4.83392574e-01, 1.87169441e-01, 4.56008900e-01, 8.22982785e-01,\n",
       "         2.31948875e-01, 1.12833613e+00, 4.42722585e-01, 1.03568215e-01,\n",
       "         4.27551300e-01, 6.09634380e-01, 3.11103810e-01, 2.96259784e+00,\n",
       "         1.17000000e+02],\n",
       "        [4.54590479e-01, 1.65332650e-01, 4.31518600e-01, 7.61680635e-01,\n",
       "         2.34413150e-01, 1.05175808e+00, 4.40281180e-01, 8.63163840e-02,\n",
       "         4.28543100e-01, 5.91392535e-01, 3.20999120e-01, 1.29717641e+00,\n",
       "         1.18000000e+02],\n",
       "        [4.96105138e-01, 1.74510385e-01, 4.68063350e-01, 8.08807360e-01,\n",
       "         2.54669200e-01, 8.38030098e-01, 4.44808117e-01, 8.30900485e-02,\n",
       "         4.37164300e-01, 5.92002850e-01, 3.17512510e-01, 5.30294104e-01,\n",
       "         1.19000000e+02]]),\n",
       " (1800,\n",
       "  120): array([[1.03911844e+00, 2.60616548e-01, 1.04476900e+00, 1.48185730e+00,\n",
       "         6.14883420e-01, 9.13840804e-02, 4.28088076e-01, 1.60256960e-01,\n",
       "         3.77883900e-01, 7.58712760e-01, 2.84782410e-01, 2.15873216e+00,\n",
       "         1.60000000e+02],\n",
       "        [1.09625066e+00, 4.12527605e-01, 1.05888350e+00, 1.70285060e+00,\n",
       "         5.91026275e-01, 2.86131352e+00, 6.15661894e-01, 3.39820431e-01,\n",
       "         5.05294800e-01, 1.34841900e+00, 2.93716440e-01, 1.94371387e+00,\n",
       "         1.61000000e+02],\n",
       "        [1.06329223e+00, 4.15972331e-01, 1.01135250e+00, 1.71681970e+00,\n",
       "         4.95765685e-01, 2.19859027e+00, 5.75604823e-01, 3.09192326e-01,\n",
       "         4.70047000e-01, 1.21754445e+00, 2.83576970e-01, 1.65863254e+00,\n",
       "         1.62000000e+02],\n",
       "        [1.01268046e+00, 2.61606300e-01, 9.95101900e-01, 1.44090275e+00,\n",
       "         6.27326970e-01, 4.76808574e-01, 5.14502034e-01, 2.38443533e-01,\n",
       "         4.25262450e-01, 9.99450700e-01, 2.81288170e-01, 1.49291241e+00,\n",
       "         1.63000000e+02],\n",
       "        [9.99757244e-01, 3.60505183e-01, 9.71069300e-01, 1.58527395e+00,\n",
       "         4.76554845e-01, 1.28258444e+00, 5.57823244e-01, 3.47455335e-01,\n",
       "         4.20455900e-01, 1.30107100e+00, 2.92106610e-01, 2.30598407e+00,\n",
       "         1.64000000e+02],\n",
       "        [1.00900928e+00, 3.13817122e-01, 9.83352650e-01, 1.58889785e+00,\n",
       "         5.64842260e-01, 9.05562336e-01, 5.20188614e-01, 2.80916644e-01,\n",
       "         4.21600300e-01, 1.03776535e+00, 2.74642940e-01, 3.15001394e+00,\n",
       "         1.65000000e+02],\n",
       "        [1.16566963e+00, 6.13238086e-01, 1.04377750e+00, 2.19448125e+00,\n",
       "         4.96658340e-01, 2.52062621e+00, 6.45810510e-01, 4.35331621e-01,\n",
       "         4.85305800e-01, 1.45261390e+00, 2.75421100e-01, 2.05991354e+00,\n",
       "         1.66000000e+02],\n",
       "        [1.01609926e+00, 4.31560993e-01, 9.77478000e-01, 1.69275690e+00,\n",
       "         4.77249175e-01, 2.15519040e+00, 5.75637823e-01, 3.50831632e-01,\n",
       "         4.29840100e-01, 1.34500110e+00, 2.73612945e-01, 1.61383960e+00,\n",
       "         1.67000000e+02],\n",
       "        [9.73757357e-01, 3.09935733e-01, 9.52835100e-01, 1.48548905e+00,\n",
       "         5.42427065e-01, 8.50938980e-01, 4.79926170e-01, 2.05337462e-01,\n",
       "         4.06799300e-01, 9.13787850e-01, 2.72048940e-01, 1.37719477e+00,\n",
       "         1.68000000e+02],\n",
       "        [9.56168515e-01, 3.18733653e-01, 9.74502600e-01, 1.48564140e+00,\n",
       "         3.96362315e-01, 5.53030980e-02, 5.40997753e-01, 3.38184989e-01,\n",
       "         3.96957400e-01, 1.25030545e+00, 2.52418505e-01, 1.79891659e+00,\n",
       "         1.69000000e+02]]),\n",
       " (1550,\n",
       "  120): array([[5.24562339e-01, 2.03854718e-01, 5.08422900e-01, 8.89976465e-01,\n",
       "         2.33779925e-01, 5.11096929e-01, 3.59261792e-01, 6.41933431e-02,\n",
       "         3.57437100e-01, 4.61654635e-01, 2.56210325e-01, 4.12579154e-01,\n",
       "         1.80000000e+02],\n",
       "        [8.15607751e-01, 3.00373058e-01, 7.91397100e-01, 1.33484610e+00,\n",
       "         3.38546720e-01, 2.94004210e-01, 5.64580052e-01, 2.30973604e-01,\n",
       "         5.04455600e-01, 1.03595695e+00, 3.06350720e-01, 1.47260527e+00,\n",
       "         1.81000000e+02],\n",
       "        [7.72139271e-01, 2.86652063e-01, 7.49053950e-01, 1.27984615e+00,\n",
       "         3.49060090e-01, 4.60532096e-01, 5.16770403e-01, 2.21639378e-01,\n",
       "         4.57992550e-01, 9.28428665e-01, 2.96035760e-01, 1.99613566e+00,\n",
       "         1.82000000e+02],\n",
       "        [7.89577884e-01, 4.62582690e-01, 7.11059600e-01, 1.49089030e+00,\n",
       "         3.26591510e-01, 3.27531262e+00, 6.46513356e-01, 4.96526536e-01,\n",
       "         4.94003300e-01, 1.94977585e+00, 2.97760005e-01, 2.92377869e+00,\n",
       "         1.83000000e+02],\n",
       "        [8.92448311e-01, 6.43973841e-01, 7.23114050e-01, 2.22022240e+00,\n",
       "         3.05206310e-01, 2.68307511e+00, 9.96316003e-01, 5.82539258e-01,\n",
       "         8.53805550e-01, 2.15265680e+00, 3.25782795e-01, 9.19050455e-01,\n",
       "         1.84000000e+02],\n",
       "        [7.10982569e-01, 3.35508531e-01, 6.62994400e-01, 1.37260470e+00,\n",
       "         3.07998665e-01, 1.56170811e+00, 6.29390217e-01, 3.19694843e-01,\n",
       "         5.28335600e-01, 1.29898810e+00, 2.95158410e-01, 1.09349420e+00,\n",
       "         1.85000000e+02],\n",
       "        [9.96214336e-01, 9.99445904e-01, 6.32400500e-01, 3.19490830e+00,\n",
       "         2.68547100e-01, 2.50239454e+00, 1.29388655e+00, 8.62678025e-01,\n",
       "         1.04492200e+00, 3.07955965e+00, 3.47488410e-01, 1.17799335e+00,\n",
       "         1.86000000e+02],\n",
       "        [8.42953198e-01, 7.71841604e-01, 6.07681250e-01, 2.47476210e+00,\n",
       "         2.82417275e-01, 2.98728505e+00, 9.11019134e-01, 6.04294710e-01,\n",
       "         6.96105950e-01, 2.18777480e+00, 3.38745100e-01, 1.68716482e+00,\n",
       "         1.87000000e+02],\n",
       "        [6.46829425e-01, 2.51002408e-01, 6.21719350e-01, 1.11003090e+00,\n",
       "         2.88345320e-01, 9.21703406e-01, 6.65682803e-01, 4.49437667e-01,\n",
       "         5.44586200e-01, 1.34091215e+00, 3.09715250e-01, 4.35522303e+00,\n",
       "         1.88000000e+02],\n",
       "        [5.74701558e-01, 2.07495259e-01, 5.92956500e-01, 9.05860890e-01,\n",
       "         2.39601115e-01, 1.00966964e-01, 5.92078328e-01, 2.70051299e-01,\n",
       "         5.22918700e-01, 1.12207820e+00, 2.94906620e-01, 1.18474193e+00,\n",
       "         1.89000000e+02]])}"
      ]
     },
     "execution_count": 257,
     "metadata": {},
     "output_type": "execute_result"
    }
   ],
   "source": [
    "all_data[0]"
   ]
  },
  {
   "cell_type": "code",
   "execution_count": 258,
   "id": "659acd5c",
   "metadata": {},
   "outputs": [],
   "source": [
    "to_be_clustered = []\n",
    "\n",
    "for k, v in all_data[1].items():\n",
    "    speed, power = k  # Extract speed and power from the tuple\n",
    "    speed_column = np.full((v.shape[0], 1), speed)  # Create a column with speed\n",
    "    power_column = np.full((v.shape[0], 1), power)  # Create a column with power\n",
    "    \n",
    "    extended_v = np.hstack((v, speed_column, power_column))  # Concatenate along columns\n",
    "    to_be_clustered.append(extended_v)  # Append to the list"
   ]
  },
  {
   "cell_type": "code",
   "execution_count": 259,
   "id": "6c51ecb0",
   "metadata": {},
   "outputs": [
    {
     "data": {
      "text/plain": [
       "((1300, 105), (10, 13))"
      ]
     },
     "execution_count": 259,
     "metadata": {},
     "output_type": "execute_result"
    }
   ],
   "source": [
    "k, v.shape"
   ]
  },
  {
   "cell_type": "code",
   "execution_count": 260,
   "id": "fb3b1399",
   "metadata": {},
   "outputs": [
    {
     "data": {
      "text/plain": [
       "array([[5.39794465e-01, 1.81034440e-01, 5.33752400e-01, 8.61091600e-01,\n",
       "        2.68936200e-01, 5.83941094e-01, 3.62287858e-01, 5.15673233e-02,\n",
       "        3.61557000e-01, 4.44602925e-01, 2.92015050e-01, 3.49930933e-01,\n",
       "        1.70000000e+02],\n",
       "       [1.14794952e+00, 5.23504315e-01, 1.04492200e+00, 2.18475325e+00,\n",
       "        4.60739150e-01, 8.79537972e-01, 5.88543214e-01, 2.59966799e-01,\n",
       "        5.05065900e-01, 1.11125950e+00, 3.02734400e-01, 1.01954984e+00,\n",
       "        1.71000000e+02],\n",
       "       [8.91140497e-01, 3.49789434e-01, 8.97293100e-01, 1.45168350e+00,\n",
       "        3.51219200e-01, 6.42531665e-01, 4.29559551e-01, 1.78425085e-01,\n",
       "        3.75137300e-01, 8.06007375e-01, 2.69889850e-01, 2.53868586e+00,\n",
       "        1.72000000e+02],\n",
       "       [8.13315911e-01, 3.15268341e-01, 7.87735000e-01, 1.38065350e+00,\n",
       "        3.45039400e-01, 1.11935745e+00, 4.09606100e-01, 1.32357776e-01,\n",
       "        3.68957500e-01, 7.03659050e-01, 2.73132300e-01, 1.61173296e+00,\n",
       "        1.73000000e+02],\n",
       "       [8.29721090e-01, 3.88483304e-01, 7.68661500e-01, 1.60591125e+00,\n",
       "        3.35044875e-01, 1.51946745e+00, 4.23269272e-01, 1.57910221e-01,\n",
       "        3.77578700e-01, 7.64732350e-01, 2.58903550e-01, 1.65366814e+00,\n",
       "        1.74000000e+02],\n",
       "       [8.96055694e-01, 4.88369631e-01, 8.17489650e-01, 1.85333250e+00,\n",
       "        2.96096825e-01, 1.82759371e+00, 5.82976149e-01, 2.96703807e-01,\n",
       "        4.96139500e-01, 1.20162975e+00, 2.96134950e-01, 1.93993177e+00,\n",
       "        1.75000000e+02],\n",
       "       [7.93847146e-01, 3.19910255e-01, 7.53021250e-01, 1.38450600e+00,\n",
       "        3.78418000e-01, 1.46727428e+00, 4.86531553e-01, 2.03950449e-01,\n",
       "        4.39910900e-01, 8.97293075e-01, 2.74047825e-01, 1.79257377e+00,\n",
       "        1.76000000e+02],\n",
       "       [8.55351788e-01, 4.31567538e-01, 7.63320900e-01, 1.69322975e+00,\n",
       "        3.01055950e-01, 1.35578463e+00, 5.06722231e-01, 2.14380483e-01,\n",
       "        4.44335950e-01, 9.39064050e-01, 2.68974350e-01, 1.35306374e+00,\n",
       "        1.77000000e+02],\n",
       "       [7.92248449e-01, 3.88203628e-01, 7.38601700e-01, 1.53587325e+00,\n",
       "        2.77328500e-01, 1.38273773e+00, 4.35710947e-01, 1.86865711e-01,\n",
       "        3.66363500e-01, 8.28590375e-01, 2.51731875e-01, 1.65118849e+00,\n",
       "        1.78000000e+02],\n",
       "       [8.22300614e-01, 3.03667255e-01, 7.91473350e-01, 1.38103475e+00,\n",
       "        3.94287100e-01, 7.23605187e-01, 4.64826425e-01, 1.76358572e-01,\n",
       "        4.17633050e-01, 8.16955550e-01, 2.66380275e-01, 1.59452045e+00,\n",
       "        1.79000000e+02]])"
      ]
     },
     "execution_count": 260,
     "metadata": {},
     "output_type": "execute_result"
    }
   ],
   "source": [
    "v"
   ]
  },
  {
   "cell_type": "code",
   "execution_count": 267,
   "id": "1cc67c25",
   "metadata": {},
   "outputs": [
    {
     "data": {
      "text/plain": [
       "array([[8.83274337e-01, 2.24558436e-01, 8.85162400e-01, ...,\n",
       "        6.00000000e+01, 1.80000000e+03, 1.05000000e+02],\n",
       "       [9.48515771e-01, 3.38991354e-01, 9.07135000e-01, ...,\n",
       "        6.10000000e+01, 1.80000000e+03, 1.05000000e+02],\n",
       "       [9.10661725e-01, 2.82612005e-01, 8.96759000e-01, ...,\n",
       "        6.20000000e+01, 1.80000000e+03, 1.05000000e+02],\n",
       "       ...,\n",
       "       [8.55351788e-01, 4.31567538e-01, 7.63320900e-01, ...,\n",
       "        1.77000000e+02, 1.30000000e+03, 1.05000000e+02],\n",
       "       [7.92248449e-01, 3.88203628e-01, 7.38601700e-01, ...,\n",
       "        1.78000000e+02, 1.30000000e+03, 1.05000000e+02],\n",
       "       [8.22300614e-01, 3.03667255e-01, 7.91473350e-01, ...,\n",
       "        1.79000000e+02, 1.30000000e+03, 1.05000000e+02]])"
      ]
     },
     "execution_count": 267,
     "metadata": {},
     "output_type": "execute_result"
    }
   ],
   "source": [
    "X = np.concatenate(to_be_clustered, axis=0)\n",
    "X"
   ]
  },
  {
   "cell_type": "code",
   "execution_count": 262,
   "id": "b2553845",
   "metadata": {},
   "outputs": [
    {
     "data": {
      "text/plain": [
       "array([[9.20146797e-01, 3.63023849e-01, 8.65375544e-01, 1.58763172e+00,\n",
       "        4.37966728e-01, 1.11026755e+00, 5.76714213e-01, 2.30927438e-01,\n",
       "        5.21816243e-01, 1.02839565e+00, 3.13450623e-01, 1.37317205e+00,\n",
       "        1.24500000e+02, 1.42500000e+03, 1.05000000e+02],\n",
       "       [3.91412992e-01, 1.89654168e-01, 3.56999720e-01, 7.29035951e-01,\n",
       "        1.67117314e-01, 1.79193587e+00, 3.90720993e-01, 7.86263029e-02,\n",
       "        3.78326413e-01, 5.31696063e-01, 2.92996720e-01, 1.90920266e+00,\n",
       "        1.07833333e+02, 5.50000000e+02, 1.05000000e+02]])"
      ]
     },
     "execution_count": 262,
     "metadata": {},
     "output_type": "execute_result"
    }
   ],
   "source": [
    "from sklearn.cluster import KMeans\n",
    "import numpy as np\n",
    "\n",
    "kmeans = KMeans(n_clusters=2, random_state=0).fit(X)\n",
    "kmeans.labels_\n",
    "kmeans.cluster_centers_"
   ]
  },
  {
   "cell_type": "code",
   "execution_count": 269,
   "id": "287a5bca",
   "metadata": {},
   "outputs": [
    {
     "data": {
      "text/plain": [
       "array([0, 0, 0, 0, 0, 0, 0, 0, 0, 0, 1, 1, 1, 1, 1, 1, 1, 1, 1, 1, 1, 1,\n",
       "       1, 1, 1, 1, 1, 1, 1, 1, 0, 0, 0, 0, 0, 0, 0, 0, 0, 0, 0, 0, 0, 0,\n",
       "       0, 0, 0, 0, 0, 0, 1, 1, 1, 1, 1, 1, 1, 1, 1, 1, 0, 0, 0, 0, 0, 0,\n",
       "       0, 0, 0, 0], dtype=int32)"
      ]
     },
     "execution_count": 269,
     "metadata": {},
     "output_type": "execute_result"
    }
   ],
   "source": [
    "kmeans.labels_"
   ]
  },
  {
   "cell_type": "code",
   "execution_count": 264,
   "id": "b57bd176",
   "metadata": {},
   "outputs": [],
   "source": [
    "N = 1\n",
    "ap = np.convolve(kmeans.labels_, np.ones(N)/N, mode='valid')\n"
   ]
  },
  {
   "cell_type": "code",
   "execution_count": 265,
   "id": "8906d5d2",
   "metadata": {},
   "outputs": [
    {
     "data": {
      "text/plain": [
       "[<matplotlib.lines.Line2D at 0x74b33df76320>]"
      ]
     },
     "execution_count": 265,
     "metadata": {},
     "output_type": "execute_result"
    },
    {
     "data": {
      "image/png": "[encoded data removed]",
      "text/plain": [
       "<Figure size 432x288 with 1 Axes>"
      ]
     },
     "metadata": {
      "needs_background": "light"
     },
     "output_type": "display_data"
    }
   ],
   "source": [
    "import matplotlib.pyplot as plt\n",
    "\n",
    "plt.plot(ap)"
   ]
  },
  {
   "cell_type": "code",
   "execution_count": 247,
   "id": "89325016",
   "metadata": {},
   "outputs": [
    {
     "data": {
      "image/png": "[encoded data removed]",
      "text/plain": [
       "<Figure size 432x288 with 1 Axes>"
      ]
     },
     "metadata": {
      "needs_background": "light"
     },
     "output_type": "display_data"
    }
   ],
   "source": [
    "for i in range(len(all_data)):\n",
    "    to_be_clustered = []\n",
    "    for k, v in all_data[i].items():\n",
    "        speed, power = k  # Extract speed and power from the tuple\n",
    "        speed_column = np.full((v.shape[0], 1), speed)  # Create a column with speed\n",
    "        power_column = np.full((v.shape[0], 1), power)  # Create a column with power\n",
    "\n",
    "        extended_v = np.hstack((v, speed_column, power_column))  # Concatenate along columns\n",
    "        to_be_clustered.append(extended_v)  # Append to the list\n",
    "        \n",
    "    X = np.concatenate(to_be_clustered, axis=0)\n",
    "    \n",
    "    kmeans = KMeans(n_clusters=2, random_state=0).fit(X)\n",
    "\n",
    "    ap = np.convolve(kmeans.labels_, np.ones(N)/N, mode='valid')\n",
    "\n",
    "    plt.plot(ap, label=k[1])\n",
    "    plt.legend()"
   ]
  },
  {
   "cell_type": "code",
   "execution_count": 248,
   "id": "9fb1f78e",
   "metadata": {},
   "outputs": [
    {
     "data": {
      "text/plain": [
       "3"
      ]
     },
     "execution_count": 248,
     "metadata": {},
     "output_type": "execute_result"
    }
   ],
   "source": [
    "len(all_data)"
   ]
  },
  {
   "cell_type": "code",
   "execution_count": 249,
   "id": "8ca048c0",
   "metadata": {},
   "outputs": [
    {
     "data": {
      "text/plain": [
       "(array([550, 550, 550, 550, 550, 550, 550, 550, 550, 550]),\n",
       " array([90, 90, 90, 90, 90, 90, 90, 90, 90, 90]))"
      ]
     },
     "execution_count": 249,
     "metadata": {},
     "output_type": "execute_result"
    }
   ],
   "source": [
    "np.repeat(k[0], 10), np.repeat(k[1], 10)"
   ]
  },
  {
   "cell_type": "code",
   "execution_count": 250,
   "id": "64b63688",
   "metadata": {},
   "outputs": [
    {
     "data": {
      "text/plain": [
       "(10, 13)"
      ]
     },
     "execution_count": 250,
     "metadata": {},
     "output_type": "execute_result"
    }
   ],
   "source": [
    "v.shape"
   ]
  },
  {
   "cell_type": "code",
   "execution_count": 268,
   "id": "6812b734",
   "metadata": {},
   "outputs": [
    {
     "name": "stderr",
     "output_type": "stream",
     "text": [
      "/usr/lib/python3/dist-packages/sklearn/manifold/_spectral_embedding.py:236: UserWarning: Graph is not fully connected, spectral embedding may not work as expected.\n",
      "  warnings.warn(\"Graph is not fully connected, spectral embedding\"\n"
     ]
    },
    {
     "data": {
      "image/png": "[encoded data removed]",
      "text/plain": [
       "<Figure size 864x576 with 1 Axes>"
      ]
     },
     "metadata": {
      "needs_background": "light"
     },
     "output_type": "display_data"
    },
    {
     "name": "stderr",
     "output_type": "stream",
     "text": [
      "/usr/lib/python3/dist-packages/sklearn/manifold/_spectral_embedding.py:236: UserWarning: Graph is not fully connected, spectral embedding may not work as expected.\n",
      "  warnings.warn(\"Graph is not fully connected, spectral embedding\"\n"
     ]
    },
    {
     "data": {
      "image/png": "[encoded data removed]",
      "text/plain": [
       "<Figure size 864x576 with 1 Axes>"
      ]
     },
     "metadata": {
      "needs_background": "light"
     },
     "output_type": "display_data"
    },
    {
     "name": "stderr",
     "output_type": "stream",
     "text": [
      "/usr/lib/python3/dist-packages/sklearn/manifold/_spectral_embedding.py:236: UserWarning: Graph is not fully connected, spectral embedding may not work as expected.\n",
      "  warnings.warn(\"Graph is not fully connected, spectral embedding\"\n"
     ]
    },
    {
     "data": {
      "image/png": "[encoded data removed]",
      "text/plain": [
       "<Figure size 864x576 with 1 Axes>"
      ]
     },
     "metadata": {
      "needs_background": "light"
     },
     "output_type": "display_data"
    }
   ],
   "source": [
    "from sklearn.cluster import KMeans, AgglomerativeClustering, DBSCAN, SpectralClustering\n",
    "\n",
    "N = 1  # Define N for the moving average\n",
    "clustering_algorithms = {\n",
    "    'KMeans': KMeans(n_clusters=2, random_state=0),\n",
    "    'AgglomerativeClustering': AgglomerativeClustering(n_clusters=2),\n",
    "    'DBSCAN': DBSCAN(),\n",
    "    'SpectralClustering': SpectralClustering(n_clusters=2, affinity='nearest_neighbors', assign_labels='kmeans')\n",
    "}\n",
    "\n",
    "for i in range(len(all_data)):\n",
    "    to_be_clustered = []\n",
    "    for k, v in all_data[i].items():\n",
    "        speed, power = k  # Extract speed and power from the tuple\n",
    "        speed_column = np.full((v.shape[0], 1), speed)  # Create a column with speed\n",
    "        power_column = np.full((v.shape[0], 1), power)  # Create a column with power\n",
    "\n",
    "        extended_v = np.hstack((v, speed_column, power_column))  # Concatenate along columns\n",
    "        to_be_clustered.append(extended_v)  # Append to the list\n",
    "        \n",
    "    X = np.concatenate(to_be_clustered, axis=0)\n",
    "\n",
    "    plt.figure(figsize=(12, 8))\n",
    "    for algo_name, algorithm in clustering_algorithms.items():\n",
    "        if algo_name in ['DBSCAN', 'SpectralClustering']:\n",
    "            labels = algorithm.fit_predict(X)\n",
    "        else:\n",
    "            algorithm.fit(X)\n",
    "            labels = algorithm.labels_\n",
    "\n",
    "        ap = np.convolve(labels, np.ones(N)/N, mode='valid')\n",
    "\n",
    "        plt.plot(ap, label=f'{algo_name} - {k[1]}')\n",
    "    \n",
    "    plt.legend()\n",
    "    plt.title(f'Clustering results for all_data[{i}]')\n",
    "    plt.xlabel('Samples')\n",
    "    plt.ylabel('Moving Average of Cluster Labels')\n",
    "    plt.show()"
   ]
  },
  {
   "cell_type": "code",
   "execution_count": null,
   "id": "a0953794",
   "metadata": {},
   "outputs": [],
   "source": [
    "(1000mm/s) --> 12 values\n",
    "(1200mm/s) --> 12 values\n",
    "(1400mm/s) --> 12 values\n",
    "(1600mm/s) --> 12 values"
   ]
  }
 ],
 "metadata": {
  "kernelspec": {
   "display_name": "Python 3 (ipykernel)",
   "language": "python",
   "name": "python3"
  },
  "language_info": {
   "codemirror_mode": {
    "name": "ipython",
    "version": 3
   },
   "file_extension": ".py",
   "mimetype": "text/x-python",
   "name": "python",
   "nbconvert_exporter": "python",
   "pygments_lexer": "ipython3",
   "version": "3.10.12"
  }
 },
 "nbformat": 4,
 "nbformat_minor": 5
}
