{
 "cells": [
  {
   "cell_type": "code",
   "execution_count": 1,
   "id": "768a5222",
   "metadata": {},
   "outputs": [
    {
     "name": "stdout",
     "output_type": "stream",
     "text": [
      "Length scale for Speed: 353.55 mm/s\n",
      "Length scale for Power: 10.61 W\n"
     ]
    }
   ],
   "source": [
    "import numpy as np\n",
    "from itertools import combinations\n",
    "\n",
    "# Input data\n",
    "data = [\n",
    "  (1050, 90), (800, 90), (1800, 120), (1300, 120), (550, 120),\n",
    "  (800, 120), (1300, 90), (1050, 105), (1550, 90), (1800, 105),\n",
    "  (800, 105), (300, 120), (1300, 105), (1050, 120), (300, 105),\n",
    "  (550, 90), (1550, 105), (1550, 120), (300, 90), (550, 105)\n",
    "]\n",
    "\n",
    "# Separate speed and power\n",
    "speed = [x[0] for x in data]\n",
    "power = [x[1] for x in data]\n",
    "\n",
    "def calculate_length_scale(values):\n",
    "    # Calculate squared pairwise distances\n",
    "    squared_distances = [(x - y)**2 for x, y in combinations(values, 2)]\n",
    "\n",
    "    # Calculate median of squared distances\n",
    "    H_n = np.median(squared_distances)\n",
    "\n",
    "    # Calculate length scale\n",
    "    l = np.sqrt(H_n / 2)\n",
    "  \n",
    "    return l\n",
    "\n",
    "# Calculate length scales\n",
    "l_speed = calculate_length_scale(speed)\n",
    "l_power = calculate_length_scale(power)\n",
    "\n",
    "print(f\"Length scale for Speed: {l_speed:.2f} mm/s\")\n",
    "print(f\"Length scale for Power: {l_power:.2f} W\")"
   ]
  }
 ],
 "metadata": {
  "kernelspec": {
   "display_name": "Python 3 (ipykernel)",
   "language": "python",
   "name": "python3"
  },
  "language_info": {
   "codemirror_mode": {
    "name": "ipython",
    "version": 3
   },
   "file_extension": ".py",
   "mimetype": "text/x-python",
   "name": "python",
   "nbconvert_exporter": "python",
   "pygments_lexer": "ipython3",
   "version": "3.10.12"
  }
 },
 "nbformat": 4,
 "nbformat_minor": 5
}
